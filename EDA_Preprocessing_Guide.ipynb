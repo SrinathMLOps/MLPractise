{
  "cells": [
    {
      "cell_type": "markdown",
      "metadata": {
        "id": "view-in-github",
        "colab_type": "text"
      },
      "source": [
        "<a href=\"https://colab.research.google.com/github/SrinathMLOps/MLPractise/blob/main/EDA_Preprocessing_Guide.ipynb\" target=\"_parent\"><img src=\"https://colab.research.google.com/assets/colab-badge.svg\" alt=\"Open In Colab\"/></a>"
      ]
    },
    {
      "cell_type": "markdown",
      "id": "cf242296",
      "metadata": {
        "id": "cf242296"
      },
      "source": [
        "# 📒 Detailed Notes: EDA and Data Preprocessing with Examples (with Real-World Analogies)\n",
        "\n",
        "We'll use the popular **Iris dataset** to explain each concept step by step, including **before and after** transformations, **real-world analogies**, and **sample data snapshots** for better understanding.\n",
        "\n",
        "## 📊 1. Exploratory Data Analysis (EDA)\n",
        "📌 **EDA involves:**\n",
        "- ✅ Checking the shape of the dataset using `df.shape` — tells you how many rows and columns the dataset has.\n",
        "```python\n",
        "print(df.shape)\n",
        "```\n",
        "\n",
        "- ✅ Understanding data types with `df.dtypes` — shows the type of data in each column.\n",
        "```python\n",
        "print(df.dtypes)\n",
        "```\n",
        "\n",
        "- ✅ Viewing summary statistics using `df.describe()`\n",
        "```python\n",
        "print(df.describe())\n",
        "```\n",
        "\n",
        "- ✅ Detecting missing values with `df.isnull().sum()`\n",
        "```python\n",
        "print(df.isnull().sum())\n",
        "```\n",
        "\n",
        "- ✅ Exploring class distributions with `df['target'].value_counts()`\n",
        "```python\n",
        "print(df['target'].value_counts())\n",
        "```\n",
        "\n",
        "- ✅ Visualizing relationships using heatmap and pairplot\n",
        "```python\n",
        "import seaborn as sns\n",
        "import matplotlib.pyplot as plt\n",
        "sns.heatmap(df.corr(), annot=True)\n",
        "plt.show()\n",
        "sns.pairplot(df, hue='target')\n",
        "plt.show()\n",
        "```\n",
        "\n",
        "🧠 **Analogy:** Think of EDA like doing a *health checkup* before treatment."
      ]
    },
    {
      "cell_type": "markdown",
      "id": "be62fc34",
      "metadata": {
        "id": "be62fc34"
      },
      "source": [
        "## 🧽 2. Handling Missing Values\n",
        "📌 Fill missing values or drop them\n",
        "\n",
        "```python\n",
        "import numpy as np\n",
        "df.loc[0, 'sepal length (cm)'] = np.nan\n",
        "df['sepal length (cm)'].fillna(df['sepal length (cm)'].mean(), inplace=True)\n",
        "```"
      ]
    },
    {
      "cell_type": "markdown",
      "id": "ce0af581",
      "metadata": {
        "id": "ce0af581"
      },
      "source": [
        "## ⚖️ 3. Feature Scaling\n",
        "📌 Normalize values so they’re comparable\n",
        "\n",
        "```python\n",
        "from sklearn.preprocessing import StandardScaler\n",
        "scaler = StandardScaler()\n",
        "df_scaled = scaler.fit_transform(df.iloc[:, :-1])\n",
        "```"
      ]
    },
    {
      "cell_type": "markdown",
      "id": "48ddf6ce",
      "metadata": {
        "id": "48ddf6ce"
      },
      "source": [
        "## 🔠 4. Encoding Categorical Variables\n",
        "📌 Convert text labels to numbers\n",
        "\n",
        "```python\n",
        "from sklearn.preprocessing import LabelEncoder\n",
        "df['category'] = ['A', 'B', 'C'] * 50\n",
        "le = LabelEncoder()\n",
        "df['category_encoded'] = le.fit_transform(df['category'])\n",
        "```"
      ]
    },
    {
      "cell_type": "markdown",
      "id": "c77a30f5",
      "metadata": {
        "id": "c77a30f5"
      },
      "source": [
        "## 🚨 5. Outlier Detection (Z-Score)\n",
        "📌 Remove extreme values\n",
        "\n",
        "```python\n",
        "from scipy.stats import zscore\n",
        "z = np.abs(zscore(df[iris.feature_names]))\n",
        "df['outlier'] = (z > 3).any(axis=1)\n",
        "df = df[df['outlier'] == False]\n",
        "```"
      ]
    },
    {
      "cell_type": "markdown",
      "id": "a8410f95",
      "metadata": {
        "id": "a8410f95"
      },
      "source": [
        "## 🔄 6. Log Transformation\n",
        "📌 Reduce skewness in data\n",
        "\n",
        "```python\n",
        "df['new_feature'] = df['petal width (cm)'] ** 3\n",
        "df['log_transformed'] = np.log1p(df['new_feature'])\n",
        "```"
      ]
    },
    {
      "cell_type": "markdown",
      "id": "ec5ecbfe",
      "metadata": {
        "id": "ec5ecbfe"
      },
      "source": [
        "## 📚 7. Text Preprocessing\n",
        "📌 Tokenize, remove stopwords, and stem\n",
        "\n",
        "```python\n",
        "from nltk.tokenize import word_tokenize\n",
        "from nltk.corpus import stopwords\n",
        "from nltk.stem import PorterStemmer\n",
        "\n",
        "text = \"I love natural language processing\"\n",
        "tokens = word_tokenize(text)\n",
        "tokens = [t for t in tokens if t.lower() not in stop_words]\n",
        "stemmed = [PorterStemmer().stem(t) for t in tokens]\n",
        "```"
      ]
    },
    {
      "cell_type": "markdown",
      "id": "8d878801",
      "metadata": {
        "id": "8d878801"
      },
      "source": [
        "## ⚖️ 8. SMOTE (Balancing Classes)\n",
        "📌 Generate synthetic samples for minority class\n",
        "\n",
        "```python\n",
        "from imblearn.over_sampling import SMOTE\n",
        "sm = SMOTE()\n",
        "X_res, y_res = sm.fit_resample(X, y)\n",
        "```"
      ]
    }
  ],
  "metadata": {
    "colab": {
      "provenance": [],
      "include_colab_link": true
    }
  },
  "nbformat": 4,
  "nbformat_minor": 5
}